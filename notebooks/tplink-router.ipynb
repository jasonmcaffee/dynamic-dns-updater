{
 "cells": [
  {
   "cell_type": "code",
   "execution_count": 1,
   "outputs": [
    {
     "name": "stderr",
     "output_type": "stream",
     "text": [
      "2024-08-05 08:03:42,515 - INFO - IP ADDRESS: 73.63.43.75\n"
     ]
    }
   ],
   "source": [
    "from tplinkrouterc6u import (\n",
    "    TplinkRouterProvider,\n",
    ")\n",
    "import logging\n",
    "logging.basicConfig(force=True, level=logging.INFO, format='%(asctime)s - %(levelname)s - %(message)s')\n",
    "\n",
    "import os\n",
    "from dotenv import load_dotenv\n",
    "load_dotenv()\n",
    "tplink_router_password=os.getenv('TP_LINK_ROUTER_PASSWORD')\n",
    "\n",
    "router = TplinkRouterProvider.get_client('http://192.168.0.1', tplink_router_password)\n",
    "\n",
    "try:\n",
    "    router.authorize()\n",
    "    ipv4_status = router.get_ipv4_status()\n",
    "\n",
    "    # Get IP Address 73.63.43.75\n",
    "    # https://github.com/AlexandrErohin/TP-Link-Archer-C6U#IPv4Status\n",
    "    logging.info(f'IP ADDRESS: {ipv4_status.wan_ipv4_ipaddress}')\n",
    "    \n",
    "except Exception as e:\n",
    "    logging.error('an error occurred: ', e)\n",
    "finally:\n",
    "    router.logout() # always logout as only 1 logged in user is allowed at a time\n",
    "\n"
   ],
   "metadata": {
    "collapsed": false,
    "ExecuteTime": {
     "end_time": "2024-08-05T14:03:42.726333Z",
     "start_time": "2024-08-05T14:03:41.127023Z"
    }
   },
   "id": "4475369a3eff025"
  },
  {
   "cell_type": "code",
   "execution_count": null,
   "outputs": [],
   "source": [],
   "metadata": {
    "collapsed": false
   },
   "id": "ffd28b99c67c11b8"
  }
 ],
 "metadata": {
  "kernelspec": {
   "display_name": "Python 3",
   "language": "python",
   "name": "python3"
  },
  "language_info": {
   "codemirror_mode": {
    "name": "ipython",
    "version": 2
   },
   "file_extension": ".py",
   "mimetype": "text/x-python",
   "name": "python",
   "nbconvert_exporter": "python",
   "pygments_lexer": "ipython2",
   "version": "2.7.6"
  }
 },
 "nbformat": 4,
 "nbformat_minor": 5
}
