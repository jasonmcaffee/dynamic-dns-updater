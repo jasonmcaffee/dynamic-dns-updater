{
 "cells": [
  {
   "cell_type": "code",
   "execution_count": 3,
   "outputs": [
    {
     "name": "stderr",
     "output_type": "stream",
     "text": [
      "2024-08-05 15:24:40,987 - INFO - getting list of zones for zone_name: jasonmcaffee.com\n",
      "2024-08-05 15:24:44,316 - INFO - HTTP Request: GET https://api.cloudflare.com/client/v4/zones?name=jasonmcaffee.com \"HTTP/1.1 200 OK\"\n",
      "2024-08-05 15:24:44,317 - INFO - getting dns records for zone and record name jasonmcaffee.com\n",
      "2024-08-05 15:24:44,493 - INFO - HTTP Request: GET https://api.cloudflare.com/client/v4/zones/587f1b42c95fa1e9343f558b7d55252e/dns_records?name=jasonmcaffee.com \"HTTP/1.1 200 OK\"\n",
      "2024-08-05 15:24:44,495 - INFO - updating dns record with ip: 73.63.43.11\n",
      "2024-08-05 15:24:44,647 - INFO - HTTP Request: PUT https://api.cloudflare.com/client/v4/zones/587f1b42c95fa1e9343f558b7d55252e/dns_records/c0eeac3d89e4abc44c988a70c8656bd5 \"HTTP/1.1 200 OK\"\n",
      "2024-08-05 15:24:44,648 - INFO - ✅ DNS record updated successfully! ✅\n",
      "2024-08-05 15:24:44,648 - INFO - getting list of zones for zone_name: yogajhana.com\n",
      "2024-08-05 15:24:44,838 - INFO - HTTP Request: GET https://api.cloudflare.com/client/v4/zones?name=yogajhana.com \"HTTP/1.1 200 OK\"\n",
      "2024-08-05 15:24:44,840 - INFO - getting dns records for zone and record name yogajhana.com\n",
      "2024-08-05 15:24:45,010 - INFO - HTTP Request: GET https://api.cloudflare.com/client/v4/zones/7e8961a517173215a1372fc6b5e994d2/dns_records?name=yogajhana.com \"HTTP/1.1 200 OK\"\n",
      "2024-08-05 15:24:45,011 - INFO - updating dns record with ip: 73.63.43.11\n",
      "2024-08-05 15:24:45,179 - INFO - HTTP Request: PUT https://api.cloudflare.com/client/v4/zones/7e8961a517173215a1372fc6b5e994d2/dns_records/c86dfe93b3d1ede5176e097a55ca30d1 \"HTTP/1.1 200 OK\"\n",
      "2024-08-05 15:24:45,180 - INFO - ✅ DNS record updated successfully! ✅\n"
     ]
    }
   ],
   "source": [
    "from cloudflare import Cloudflare\n",
    "from dotenv import load_dotenv\n",
    "import os \n",
    "load_dotenv()\n",
    "\n",
    "import logging\n",
    "logging.basicConfig(force=True, level=logging.INFO, format='%(asctime)s - %(levelname)s - %(message)s')\n",
    "\n",
    "def update_dns_records():\n",
    "    cloudflare_api_global_key = os.getenv('CLOUDFLARE_GLOBAL_KEY') # this must be the global key, not a token!\n",
    "    cloudflare_email = os.getenv('CLOUDFLARE_EMAIL')\n",
    "    # assume that the zone and record name are the same.\n",
    "    zone_and_record_names = [\n",
    "        'jasonmcaffee.com',\n",
    "        'yogajhana.com'\n",
    "    ]\n",
    "    new_ip = '73.63.43.11' #TODO get this from the router due to vpn, and not wanting to rely on a 3rd party.\n",
    "    cloudflare_client = Cloudflare(api_key=cloudflare_api_global_key, api_email=cloudflare_email)\n",
    "    \n",
    "    for zone_and_record_name in zone_and_record_names:\n",
    "        update_dns_record(cloudflare_client, zone_and_record_name, zone_and_record_name, new_ip)\n",
    "    \n",
    "def update_dns_record(cf, zone_name, record_name, new_ip):\n",
    "    try:\n",
    "        logging.info(f'getting list of zones for zone_name: {zone_name}')\n",
    "        zones = cf.zones.list(name=zone_name)\n",
    "        if not zones:\n",
    "            logging.error(f\"❌ Zone {zone_name} not found. ❌\")\n",
    "            return\n",
    "        zone_1 = zones.result[0]\n",
    "        zone_id = zone_1.id\n",
    "    except Exception as e:\n",
    "        logging.error(f\"❌ Failed to get zones: {e} ❌\")\n",
    "        return\n",
    "\n",
    "    # Get the DNS record ID\n",
    "    try:\n",
    "        logging.info(f'getting dns records for zone and record name {record_name}')\n",
    "        dns_records = cf.dns.records.list(zone_id=zone_id, name=record_name)\n",
    "        if not dns_records:\n",
    "            logging.error(f\"❌ DNS record {record_name} not found. ❌\")\n",
    "            return\n",
    "        record_id = dns_records.result[0].id\n",
    "    except Exception as e:\n",
    "        logging.error(f\"❌ Failed to get DNS records: {e} ❌\")\n",
    "        return\n",
    "\n",
    "    try:\n",
    "        logging.info(f'updating dns record with ip: {new_ip}')\n",
    "        cf.dns.records.update( zone_id=zone_id, content=new_ip, type='A', name=record_name, dns_record_id=record_id, proxied=True)\n",
    "        logging.info(\"✅ DNS record updated successfully! ✅\")\n",
    "    except Exception as e:\n",
    "        print(f\"❌ Failed to update DNS record: {e} ❌\")\n",
    "        \n",
    "update_dns_records()  "
   ],
   "metadata": {
    "collapsed": false,
    "ExecuteTime": {
     "end_time": "2024-08-05T21:24:45.188105Z",
     "start_time": "2024-08-05T21:24:40.977067Z"
    }
   },
   "id": "bd688904e6692be2"
  },
  {
   "cell_type": "code",
   "execution_count": null,
   "outputs": [],
   "source": [],
   "metadata": {
    "collapsed": false
   },
   "id": "9899d2fd950c23a8"
  }
 ],
 "metadata": {
  "kernelspec": {
   "display_name": "Python 3",
   "language": "python",
   "name": "python3"
  },
  "language_info": {
   "codemirror_mode": {
    "name": "ipython",
    "version": 2
   },
   "file_extension": ".py",
   "mimetype": "text/x-python",
   "name": "python",
   "nbconvert_exporter": "python",
   "pygments_lexer": "ipython2",
   "version": "2.7.6"
  }
 },
 "nbformat": 4,
 "nbformat_minor": 5
}
